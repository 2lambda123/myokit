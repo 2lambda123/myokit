{
 "metadata": {
  "language_info": {
   "codemirror_mode": {
    "name": "ipython",
    "version": 3
   },
   "file_extension": ".py",
   "mimetype": "text/x-python",
   "name": "python",
   "nbconvert_exporter": "python",
   "pygments_lexer": "ipython3",
   "version": "3.7.5"
  },
  "orig_nbformat": 2,
  "kernelspec": {
   "name": "python37564bitvenvvenv244669d31e9a466f969539273faabb23",
   "display_name": "Python 3.7.5 64-bit ('venv': venv)"
  },
  "metadata": {
   "interpreter": {
    "hash": "b549ef8f725765840b8dee59019bf30e3a95fb7451225767d231cdd0f14b14d2"
   }
  }
 },
 "nbformat": 4,
 "nbformat_minor": 2,
 "cells": [
  {
   "source": [
    "# Sensitivities and symbolic differentiation\n",
    "\n",
    "The standard phrasing of forward sensitivities is\n",
    "\n",
    " - State: $y = y(p, t)$\n",
    " - Constant or an initial state value: $p$ \n",
    " - State derivatives: $f(y, p) = \\frac{\\mathrm{d}y}{\\mathrm{d}t}$, this is the myokit.Model\n",
    " - Sensitivities: $s = \\frac{\\mathrm{d}y}{\\mathrm{d}p}$\n",
    " - Sensitivity ODEs: $\\frac{\\mathrm{d}s}{\\mathrm{d}t} = \\frac{\\partial f}{\\partial y}s + \\frac{\\partial f}{\\partial p}$\n",
    "\n",
    "The final sensitivity ODE expression assumes that there are no intermediate expressions that may implicitly depend on time, parameters or other states. So when computing the sensitivities, it is important to plug in all intermediate expressions into $f$.\n",
    "\n",
    "In myokit, we might also be interested in the sensitivities of an intermediate expression. Those can be stratghtforwadly derived from the above sensitivities\n",
    "\n",
    " - Intermediate: $x = x(y, p, t)$\n",
    " - Sensitivities: $\\frac{\\mathrm{d}x}{\\mathrm{d}p} = \\frac{\\partial x}{\\partial y}s + \\frac{\\partial x}{\\partial p}$.\n",
    "\n",
    "Here, again, we'll assume that any dependencies of x on other intermediate expressions are plugged in, prior to the computation of the derivatives."
   ],
   "cell_type": "markdown",
   "metadata": {}
  },
  {
   "cell_type": "code",
   "execution_count": 3,
   "metadata": {},
   "outputs": [
    {
     "output_type": "stream",
     "name": "stderr",
     "text": [
      "WARNING:myokit:Using development version of Myokit (1.33.0.dev).\n"
     ]
    }
   ],
   "source": [
    "import myokit"
   ]
  },
  {
   "source": [
    "## Model\n",
    "\n",
    "(For simplicity units of constants are dropped)\n",
    "\n",
    "State equations:\n",
    "\\begin{eqnarray}\n",
    "    \\frac{\\mathrm{d}{Ca}_i}{\\mathrm{d}t} &=& -0.001 ICa + 0.07 (0.0001 - Ca_i)\\\\\n",
    "    \\frac{\\mathrm{d}d}{\\mathrm{d}t} &=& \\alpha_d (1 - d) - \\beta_d d \\\\\n",
    "    \\frac{\\mathrm{d}f}{\\mathrm{d}t} &=& \\alpha_f (1 - f) - \\beta_f f \\\\\n",
    "    \\frac{\\mathrm{d}x}{\\mathrm{d}t} &=& \\alpha_x (1 - x) - \\beta_x x \\\\\n",
    "    \\frac{\\mathrm{d}h}{\\mathrm{d}t} &=& \\alpha_h (1 - h) - \\beta_h h \\\\\n",
    "    \\frac{\\mathrm{d}m}{\\mathrm{d}t} &=& \\alpha_m (1 - m) - \\beta_m m \\\\\n",
    "    \\frac{\\mathrm{d}j}{\\mathrm{d}t} &=& \\alpha_j (1 - j) - \\beta_j j \\\\\n",
    "    \\frac{\\mathrm{d}V}{\\mathrm{d}t} &=& -(i_{ion} + i_{diff} + i_{stim}) / C\n",
    "\\end{eqnarray}\n",
    "\n",
    "Algebraic equations:\n",
    "\\begin{eqnarray}\n",
    "    Ib &=& gb (V - Eb) \\\\\n",
    "    E_{ica} &=& 7.7 - 13.0287 \\log (Ca_i / Ca_o) \\\\\n",
    "    ICa &=& gCa\\, d \\, f (V-E_{ica}) \\\\\n",
    "    \\alpha _d &=& 0.095 \\frac{\\exp(-0.01 (V - 5))}{1 + \\exp(-0.072 (V - 5))} \\\\\n",
    "    \\beta _d &=& 0.07 \\frac{\\exp(-0.017 (V + 44))}{1 + \\exp(0.05 (V + 44))} \\\\\n",
    "    \\alpha _f &=& 0.012 \\frac{\\exp(-0.008 (V + 28))}{1 + \\exp(0.15 (V + 28))} \\\\\n",
    "    \\beta _f &=& 0.0065 \\frac{\\exp(-0.02 (V + 30 [mV]))}{1 + \\exp(-0.2(V + 30))} \\\\\n",
    "    IK &=& gK \\, xi \\, x \\, (V-E_{ik}) \\\\\n",
    "    E_{ik} &=& RTF \\log \\frac{K_o \\, PNa_K\\, Na_o}{K_i\\, PNa_K\\, Na_i} \\\\\n",
    "    gK &=& 0.282 \\sqrt{K_o / 5.4} \\\\\n",
    "    \\alpha _x &=& 0.0005\\frac{\\exp(0.083 (V + 50))}{1 + \\exp(0.057 (V + 50))} \\\\\n",
    "    \\beta _x &=& 0.0013\\frac{\\exp(-0.06 (V + 20 ))}{1 + \\exp(-0.04(V + 20))} \\\\\n",
    "    xi &=& \n",
    "        \\left\\lbrace\n",
    "        \\begin{matrix}\n",
    "             1 & \\mathrm{for}\\quad V<-100\\\\ \n",
    "             2.837 \\frac{0.04}{\\exp(0.04(V + 35)} & \\mathrm{for}\\quad V=-77 \\\\\n",
    "             2.837 \\frac{\\exp(0.04 (V + 77 )) - 1}{(V + 77) \\exp(0.04 (V + 35))} & \\mathrm{else}\n",
    "\n",
    "        \\end{matrix}\n",
    "        \\right. \\\\\n",
    "    E_{ik1} &=& RTF\\log(K_o / K_i) \\\\\n",
    "    IK1 &=& gK1\\, g \\, (V-E_{ik1}) \\\\\n",
    "    g &=& \\frac{\\alpha _g}{\\alpha _g + \\beta _g} \\\\\n",
    "    \\alpha _g &=& \\frac{1.02}{1 + \\exp(0.2385 (V - E_{ik1} - 59.215))} \\\\\n",
    "    \\beta _g &=& \\frac{0.49124 \\exp(0.08032(V - E_{ik1} + 5.476)) + \\exp(0.06175 (V - E_{ik1} - 594.31))}{1 + \\exp(-0.5143 (V - E_{ik1} + 4.753))} \\\\\n",
    "    gK1 &=& 0.6047\\sqrt{K_o / 5.4} \\\\\n",
    "    IKp &=& gKp \\, Kp (V - E_{ik1})\\\\\n",
    "    Kp &=& \\frac{1}{5.98(1 + \\exp 7.448 - V)} \\\\\n",
    "    ENa &=& RTF \\log (Na_o / Na_i) \\\\\n",
    "    INa &=& gNa \\, m^3\\, h\\, j (V-ENa) \\\\\n",
    "    a &=& 1 - \\frac{1}{1 + \\exp (-(V + 40)) / 0.24} \\\\\n",
    "    \\alpha _h &=& a 0.135 \\exp(-(80+ V) / 6.8 ) \\\\\n",
    "    \\beta _h &=& a (3.56 \\exp(0.079 V) + 310000  \\exp(0.35 V)) + \\frac{1 - a}{0.13 (1 + \\exp(-(V + 10.66) / 11.1))} \\\\\n",
    "    \\alpha _j &=& a (-127140 \\exp(0.2444 V) - 3.474e-5 \\exp(-0.04391 V))\\frac{V + 37.78}{1 + \\exp(0.311(V + 79.23))}\\\\\n",
    "    \\beta_j &=& a \\frac{0.1212 \\exp(-0.01052 V)}{1 + \\exp(-0.1378(V + 40.14 [mV]))} + (1 - a) \\frac{0.3 \\exp(-2.535e-7 V)}{1 + \\exp(-0.1 (V + 32))} \\\\\n",
    "    \\alpha _m &=& 0.32 \\frac{V + 47.13}{1 - \\exp(-0.1(V + 47.13))} \\\\\n",
    "    \\beta _m &=& 0.08 \\exp(-V / 11) \\\\\n",
    "    i_{ion} &=& INa + IK + Ib + IKp + IK1 + ICa\\\\\n",
    "    i_{stim} &=& \\mathrm{pace} * \\mathrm{stimulous}\n",
    "\\end{eqnarray}\n",
    "\n",
    "Constants:\n",
    "\\begin{eqnarray}\n",
    "    Ca_o &=& 1.8\\\\\n",
    "    K_i &=& 145\\\\\n",
    "    K_o &=& 5.4\\\\\n",
    "    Na_i &=& 10\\\\\n",
    "    Na_o &=& 140\\\\\n",
    "    RTF &=& 8314 * 310 / 96500\\\\\n",
    "    Eb &=& -59.87\\\\\n",
    "    gb &=& 0.03921\\\\\n",
    "    gCa &=& 0.09 \\\\\n",
    "    PNa_K &=& 0.01833 \\\\\n",
    "    gKp &=& 0.0183 \\\\\n",
    "    gNa &=& 16 \\\\\n",
    "    C &=& 1 \\\\\n",
    "    i_{diff} &=& 0 \\\\\n",
    "    \\mathrm{stimulous} &=& -80 \n",
    "\\end{eqnarray}"
   ],
   "cell_type": "markdown",
   "metadata": {}
  },
  {
   "cell_type": "code",
   "execution_count": 4,
   "metadata": {},
   "outputs": [
    {
     "output_type": "stream",
     "name": "stdout",
     "text": [
      "[[model]]\ndesc: \"\"\"\n    Implementation of the Luo-Rudy model I for the ventricular myocyte.\n    Based on an updated formulation downloaded from http://rudylab.wustl.edu\n    and licensed under a GNU GPL license version 2.\n    \"\"\"\nname: Luo-Rudy 1991\n# Initial values\nmembrane.V = -84.5286\nina.m      = 0.0017\nina.h      = 0.9832\nina.j      = 0.995484\nica.d      = 3e-6\nica.f      = 1\nik.x       = 0.0057\nica.Ca_i   = 0.0002\n\n[cell]\ndesc: Contains a list of cell constants\nCa_o = 1.8 [mM]\n    in [mM]\nK_i = 145 [mM]\n    in [mM]\nK_o = 5.4 [mM]\n    in [mM]\nNa_i = 10 [mM]\n    in [mM]\nNa_o = 140 [mM]\n    in [mM]\nRTF = R * T / F\n    in [mV]\n    F = 96500 [C/mol] : Faraday constant (Value used in LR model)\n        in [C/mol]\n    R = 8314 [mJ/mol/K] : Gas constant\n        in [mJ/mol/K]\n    T = 310 [K] : Absolute temperature\n        in [K]\n\n[engine]\ndesc: Simulation engine variables\npace = 0 bind pace\ntime = 0 [ms] bind time\n    in [ms]\n\n[ib]\ndesc: Background current\nEb = -59.87 [mV]\n    in [mV]\nIb = gb * (membrane.V - Eb) : Background current\n    in [uA/cm^2]\ngb = 0.03921 [mS/cm^2]\n    in [mS/cm^2]\n\n[ica]\ndesc: The slow inward calcium current.\nuse membrane.V as V\ndot(Ca_i) = -0.0001 [mol/m/s/A (100000)] * ICa + 0.07 [mS/uF] * (0.0001 [mM] - Ca_i)\n    in [mM]\n    desc: Intracellular Calcium concentration\nE = 7.7 [mV] - 13.0287 [mV] * log(Ca_i / cell.Ca_o)\n    in [mV]\n    desc: Nernst potential\nICa = gCa * d * f * (V - E)\n    in [uA/cm^2]\ndot(d) = alpha * (1 - d) - beta * d\n    alpha = 0.095 [mS/uF] * exp(-0.01 [1/mV] * (V - 5 [mV])) / (1 + exp(-0.072 [1/mV] * (V - 5 [mV])))\n        in [mS/uF]\n    beta = 0.07 [mS/uF] * exp(-0.017 [1/mV] * (V + 44 [mV])) / (1 + exp(0.05 [1/mV] * (V + 44 [mV])))\n        in [mS/uF]\ndot(f) = alpha * (1 - f) - beta * f\n    alpha = 0.012 [mS/uF] * exp(-0.008 [1/mV] * (V + 28 [mV])) / (1 + exp(0.15 [1/mV] * (V + 28 [mV])))\n        in [mS/uF]\n    beta = 0.0065 [mS/uF] * exp(-0.02 [1/mV] * (V + 30 [mV])) / (1 + exp(-0.2 [1/mV] * (V + 30 [mV])))\n        in [mS/uF]\ngCa = 0.09 [mS/cm^2]\n    in [mS/cm^2]\n\n[ik]\ndesc: Time-dependent Potassium current\nuse membrane.V as V\nIK = gK * xi * x * (V - E) : Time-dependent Potassium current\n    in [uA/cm^2]\n    E = cell.RTF * log((cell.K_o + PNa_K * cell.Na_o) / (cell.K_i + PNa_K * cell.Na_i))\n        in [mV]\n    PNa_K = 0.01833 : Permability ratio of Na to K\n    gK = 0.282 [mS/cm^2] * sqrt(cell.K_o / 5.4 [mM])\n        in [mS/cm^2]\ndot(x) = alpha * (1 - x) - beta * x\n    alpha = 0.0005 [mS/uF] * exp(0.083 [1/mV] * (V + 50 [mV])) / (1 + exp(0.057 [1/mV] * (V + 50 [mV])))\n        in [mS/uF]\n    beta = 0.0013 [mS/uF] * exp(-0.06 [1/mV] * (V + 20 [mV])) / (1 + exp(-0.04 [1/mV] * (V + 20 [mV])))\n        in [mS/uF]\nxi = if(V < -100 [mV], 1, if(V == -77 [mV], 2.837 [mV] * 0.04 [1/mV] / exp(0.04 [1/mV] * (V + 35 [mV])), 2.837 [mV] * (exp(0.04 [1/mV] * (V + 77 [mV])) - 1) / ((V + 77 [mV]) * exp(0.04 [1/mV] * (V + 35 [mV])))))\n\n[ik1]\ndesc: Time-independent potassium current\nuse membrane.V as V\nE = cell.RTF * log(cell.K_o / cell.K_i)\n    in [mV]\nIK1 = gK1 * g * (V - E)\n    in [uA/cm^2]\ng = alpha / (alpha + beta)\n    in [1]\n    alpha = 1.02 [mS/uF] / (1 + exp(0.2385 [1/mV] * (V - E - 59.215 [mV])))\n        in [mS/uF]\n    beta = (0.49124 [mS/uF] * exp(0.08032 [1/mV] * (V - E + 5.476 [mV])) + 1 [mS/uF] * exp(0.06175 [1/mV] * (V - E - 594.31 [mV]))) / (1 + exp(-0.5143 [1/mV] * (V - E + 4.753 [mV])))\n        in [mS/uF]\ngK1 = 0.6047 [mS/cm^2] * sqrt(cell.K_o / 5.4 [mM])\n    in [mS/cm^2]\n\n[ikp]\nuse membrane.V as V\nIKp = gKp * Kp * (V - ik1.E) : Plateau Potassium current\n    in [uA/cm^2]\nKp = 1 / (1 + exp((7.488 [mV] - V) / 5.98 [mV]))\ngKp = 0.0183 [mS/cm^2]\n    in [mS/cm^2]\n\n[ina]\nuse membrane.V as V\nENa = cell.RTF * log(cell.Na_o / cell.Na_i)\n    in [mV]\n    desc: Nernst potential of Na\nINa = gNa * m^3 * h * j * (V - ENa) : Fast sodium current\n    in [uA/cm^2]\na = 1 - 1 / (1 + exp(-(V + 40 [mV]) / 0.24 [mV]))\n    desc: Used instead of if statement.\ngNa = 16 [mS/cm^2]\n    in [mS/cm^2]\ndot(h) = alpha * (1 - h) - beta * h\n    alpha = a * 0.135 [mS/uF] * exp((80 [mV] + V) / -6.8 [mV])\n        in [mS/uF]\n    beta = a * (3.56 [mS/uF] * exp(0.079 [1/mV] * V) + 310000 [mS/uF] * exp(0.35 [1/mV] * V)) + (1 - a) / (0.13 [ms] * (1 + exp((V + 10.66 [mV]) / -11.1 [mV])))\n        in [mS/uF]\ndot(j) = alpha * (1 - j) - beta * j\n    alpha = a * (-127140 [1/mV/ms] * exp(0.2444 [1/mV] * V) - 3.474e-5 [1/mV/ms] * exp(-0.04391 [1/mV] * V)) * (V + 37.78 [mV]) / (1 + exp(0.311 [1/mV] * (V + 79.23 [mV])))\n        in [mS/uF]\n    beta = a * (0.1212 [mS/uF] * exp(-0.01052 [1/mV] * V) / (1 + exp(-0.1378 [1/mV] * (V + 40.14 [mV])))) + (1 - a) * (0.3 [mS/uF] * exp(-2.535e-7 [1/mV] * V) / (1 + exp(-0.1 [1/mV] * (V + 32 [mV]))))\n        in [mS/uF]\ndot(m) = alpha * (1 - m) - beta * m\n    alpha = 0.32 [1/mV/ms] * (V + 47.13 [mV]) / (1 - exp(-0.1 [1/mV] * (V + 47.13 [mV])))\n        in [mS/uF]\n    beta = 0.08 [mS/uF] * exp(-V / 11 [mV])\n        in [mS/uF]\n\n[membrane]\ndesc: Membrane potential and stimulus\nC = 1 [uF/cm^2]\n    in [uF/cm^2]\ndot(V) = -(1 / C) * (i_ion + i_diff + i_stim)\n    in [mV]\n    label membrane_potential\n    desc: The membrane potential\ni_diff = 0 [uA/cm^2] bind diffusion_current\n    in [uA/cm^2]\ni_ion = ina.INa + ik.IK + ib.Ib + ikp.IKp + ik1.IK1 + ica.ICa\n    in [uA/cm^2]\n    label cellular_current\ni_stim = engine.pace * stim_amplitude\n    in [uA/cm^2]\n    label stimulus_current\n    stim_amplitude = -80 [uA/cm^2]\n        in [uA/cm^2]\n\n\n"
     ]
    }
   ],
   "source": [
    "model = myokit.load_model('example')\n",
    "\n",
    "print(model.code())"
   ]
  },
  {
   "source": [
    "## Compute sensitivities"
   ],
   "cell_type": "markdown",
   "metadata": {}
  },
  {
   "source": [
    "### Example I: Sensitivities of $Ca_i$\n",
    "The calcium count may be measured in experiments and thus may be a model output with sensitivities of interest.\n",
    "\n",
    "#### Analytic sensitivity ODE\n",
    "The relevant expressions from the above model are\n",
    "\n",
    "\\begin{eqnarray}\n",
    "    \\frac{\\mathrm{d}{Ca}_i}{\\mathrm{d}t} &=& -0.001 ICa + 0.07 (0.0001 - Ca_i)\\\\\n",
    "    ICa &=& gCa\\, d \\, f (V-E_{ica}) \\\\\n",
    "    gCa &=& 0.09 \\\\\n",
    "    \\frac{\\mathrm{d}d}{\\mathrm{d}t} &=& \\alpha_d (1 - d) - \\beta_d d \\\\\n",
    "    \\frac{\\mathrm{d}f}{\\mathrm{d}t} &=& \\alpha_f (1 - f) - \\beta_f f \\\\\n",
    "    \\frac{\\mathrm{d}V}{\\mathrm{d}t} &=& -(i_{ion} + i_{diff} + i_{stim}) / C \\\\\n",
    "    E_{ica} &=& 7.7 - 13.0287 \\log (Ca_i / Ca_o) \\\\\n",
    "    \\alpha _d &=& 0.095 \\frac{\\exp(-0.01 (V - 5))}{1 + \\exp(-0.072 (V - 5))} \\\\\n",
    "    \\beta _d &=& 0.07 \\frac{\\exp(-0.017 (V + 44))}{1 + \\exp(0.05 (V + 44))} \\\\\n",
    "    \\alpha _f &=& 0.012 \\frac{\\exp(-0.008 (V + 28))}{1 + \\exp(0.15 (V + 28))} \\\\\n",
    "    \\beta _f &=& 0.0065 \\frac{\\exp(-0.02 (V + 30))}{1 + \\exp(-0.2(V + 30))} \\\\\n",
    "    i_{ion} &=& INa + IK + Ib + IKp + IK1 + ICa\\\\\n",
    "    i_{diff} &=& 0 \\\\\n",
    "    i_{stim} &=& \\mathrm{pace} * \\mathrm{stimulous} \\\\\n",
    "    C &=& 1 \\\\\n",
    "    Ca_o &=& 1.8\\\\\n",
    "    INa &=& gNa \\, m^3\\, h\\, j (V-ENa) \\\\\n",
    "    IK &=& gK \\, xi \\, x \\, (V-E_{ik}) \\\\\n",
    "    Ib &=& gb (V - Eb) \\\\\n",
    "    IKp &=& gKp \\, Kp (V - E_{ik1})\\\\\n",
    "    IK1 &=& gK1\\, g \\, (V-E_{ik1}) \\\\\n",
    "    \\mathrm{stimulous} &=& -80 \\\\\n",
    "    gNa &=& 16 \\\\\n",
    "    \\frac{\\mathrm{d}m}{\\mathrm{d}t} &=& \\alpha_m (1 - m) - \\beta_m m \\\\\n",
    "    \\frac{\\mathrm{d}h}{\\mathrm{d}t} &=& \\alpha_h (1 - h) - \\beta_h h \\\\\n",
    "    \\frac{\\mathrm{d}j}{\\mathrm{d}t} &=& \\alpha_j (1 - j) - \\beta_j j \\\\\n",
    "    ENa &=& RTF \\log (Na_o / Na_i) \\\\\n",
    "    gK &=& 0.282 \\sqrt{K_o / 5.4} \\\\\n",
    "    xi &=& \n",
    "        \\left\\lbrace\n",
    "        \\begin{matrix}\n",
    "             1 & \\mathrm{for}\\quad V<-100\\\\ \n",
    "             2.837 \\frac{0.04}{\\exp(0.04(V + 35)} & \\mathrm{for}\\quad V=-77 \\\\\n",
    "             2.837 \\frac{\\exp(0.04 (V + 77 )) - 1}{(V + 77) \\exp(0.04 (V + 35))} & \\mathrm{else}\n",
    "\n",
    "        \\end{matrix}\n",
    "        \\right. \\\\\n",
    "    \\frac{\\mathrm{d}x}{\\mathrm{d}t} &=& \\alpha_x (1 - x) - \\beta_x x \\\\\n",
    "    E_{ik} &=& RTF \\log \\frac{K_o \\, PNa_K\\, Na_o}{K_i\\, PNa_K\\, Na_i} \\\\\n",
    "    gb &=& 0.03921\\\\\n",
    "    Eb &=& -59.87\\\\\n",
    "    gKp &=& 0.0183 \\\\\n",
    "    Kp &=& \\frac{1}{5.98(1 + \\exp 7.448 - V)} \\\\\n",
    "    E_{ik1} &=& RTF\\log(K_o / K_i) \\\\\n",
    "    gK1 &=& 0.6047\\sqrt{K_o / 5.4} \\\\\n",
    "    g &=& \\frac{\\alpha _g}{\\alpha _g + \\beta _g} \\\\\n",
    "     &.& \\\\\n",
    "    &.& \\\\\n",
    "    &.&\n",
    "\\end{eqnarray}"
   ],
   "cell_type": "markdown",
   "metadata": {}
  },
  {
   "source": [
    "Not feasible to show sensitivity when voltage is coupling the $Ca_i$ count to all other currents in the model. In other words, $Ca_i$ is sensitive to all parameters in the model."
   ],
   "cell_type": "markdown",
   "metadata": {}
  },
  {
   "source": [
    "### Example II: Sensitivities of Ca when voltage is constant and externally controlled\n",
    "\n",
    "#### Analytic sensitivity ODE\n",
    "Now, the relevant expressions from the above model are\n",
    "\n",
    "\\begin{eqnarray}\n",
    "    \\frac{\\mathrm{d}{Ca}_i}{\\mathrm{d}t} &=& -0.001 ICa + 0.07 (0.0001 - Ca_i)\\\\\n",
    "    ICa &=& gCa\\, d \\, f (V-E_{ica}) \\\\\n",
    "    gCa &=& 0.09 \\\\\n",
    "    \\frac{\\mathrm{d}d}{\\mathrm{d}t} &=& \\alpha_d (1 - d) - \\beta_d d \\\\\n",
    "    \\frac{\\mathrm{d}f}{\\mathrm{d}t} &=& \\alpha_f (1 - f) - \\beta_f f \\\\\n",
    "    V &=& 1 \\\\\n",
    "    E_{ica} &=& 7.7 - 13.0287 \\log (Ca_i / Ca_o) \\\\\n",
    "    \\alpha _d &=& 0.095 \\frac{\\exp(-0.01 (V - 5))}{1 + \\exp(-0.072 (V - 5))} \\\\\n",
    "    \\beta _d &=& 0.07 \\frac{\\exp(-0.017 (V + 44))}{1 + \\exp(0.05 (V + 44))} \\\\\n",
    "    \\alpha _f &=& 0.012 \\frac{\\exp(-0.008 (V + 28))}{1 + \\exp(0.15 (V + 28))} \\\\\n",
    "    \\beta _f &=& 0.0065 \\frac{\\exp(-0.02 (V + 30))}{1 + \\exp(-0.2(V + 30))} \\\\\n",
    "    Ca_o &=& 1.8\n",
    "\\end{eqnarray}\n",
    "\n",
    "In order to derive the sensitivities according to $\\frac{\\mathrm{d}s}{\\mathrm{d}t} = \\frac{\\partial f}{\\partial y}s + \\frac{\\partial f}{\\partial p}$, we have to make sure that the rhs of all states only depends on states or parameters:\n",
    "\n",
    "\\begin{eqnarray}\n",
    "    \\frac{\\mathrm{d}{Ca}_i}{\\mathrm{d}t} &=& -0.001 gCa\\, d \\, f (V-(7.7 - 13.0287 \\log (Ca_i / Ca_o))) + 0.07 (0.0001 - Ca_i)\\\\\n",
    "    \\frac{\\mathrm{d}d}{\\mathrm{d}t} &=& 0.095 \\frac{\\exp(-0.01 (V - 5))}{1 + \\exp(-0.072 (V - 5))} (1 - d) - 0.07 \\frac{\\exp(-0.017 (V + 44))}{1 + \\exp(0.05 (V + 44))} d \\\\\n",
    "    \\frac{\\mathrm{d}f}{\\mathrm{d}t} &=& 0.012 \\frac{\\exp(-0.008 (V + 28))}{1 + \\exp(0.15 (V + 28))} (1 - f) - 0.0065 \\frac{\\exp(-0.02 (V + 30))}{1 + \\exp(-0.2(V + 30))} f \\\\\n",
    "    gCa &=& 0.09 \\\\\n",
    "    V &=& 1 \\\\\n",
    "    Ca_o &=& 1.8\n",
    "\\end{eqnarray}\n",
    "\n",
    "Thus, $Ca_i$ is sensitive to three parameters $(gCa, V, Ca_o)$ as well as the initial conditions of the states.\n",
    "\n",
    "1. Sensitivity to $gCa$: \n",
    "    The states $d$ and $f$ do not depend on $gCa$, thus their sensitivities are zero. As a result, the only contribution comes from the rhs of $Ca_i$:\n",
    "    \\begin{eqnarray}\n",
    "        \\frac{\\mathrm{d}}{\\mathrm{d}t}\\frac{\\mathrm{d}{Ca}_i}{\\mathrm{d}gCa} &=& \\left( -0.0130287 gCa\\, d \\, f / Ca_i - 0.07 \\right) \\frac{\\mathrm{d}{Ca}_i}{\\mathrm{d}gCa} -0.001 d \\, f (V-(7.7 - 13.0287 \\log (Ca_i / Ca_o)))\\\\\n",
    "    \\end{eqnarray}\n",
    "2. Sensitivity to $V$: \n",
    "    The states $d$ and $f$ do depend on $gCa$, thus we need keep track of their sensitivities. For brevity, we will not write out the derivatives explicitly:\n",
    "    \\begin{eqnarray}\n",
    "        \\frac{\\mathrm{d}}{\\mathrm{d}t}\\frac{\\mathrm{d}{Ca}_i}{\\mathrm{d}V} &=& \n",
    "            \\frac{\\partial f_{Ca_i}}{\\partial Ca_i}\\frac{\\mathrm{d}{Ca}_i}{\\mathrm{d}V} +\n",
    "            \\frac{\\partial f_{Ca_i}}{\\partial d}\\frac{\\mathrm{d}d}{\\mathrm{d}V} +\n",
    "            \\frac{\\partial f_{Ca_i}}{\\partial f}\\frac{\\mathrm{d}f}{\\mathrm{d}V} +\n",
    "            \\frac{\\partial f_{Ca_i}}{\\partial V}\n",
    "    \\end{eqnarray}\n",
    "3. Sensitivity to $Ca_o$: \n",
    "    The states $d$ and $f$ do not depend on $Ca_o$, thus their sensitivities are zero. As a result, the only contribution comes from the rhs of $Ca_i$:\n",
    "    \\begin{eqnarray}\n",
    "        \\frac{\\mathrm{d}}{\\mathrm{d}t}\\frac{\\mathrm{d}{Ca}_i}{\\mathrm{d}Ca_o} &=& \\left( -0.0130287 gCa\\, d \\, f / Ca_i - 0.07 \\right) \\frac{\\mathrm{d}{Ca}_i}{\\mathrm{d}gCa} + 0.0130287 gCa\\, d \\, f / Ca_o\\\\\n",
    "    \\end{eqnarray}"
   ],
   "cell_type": "markdown",
   "metadata": {}
  },
  {
   "cell_type": "code",
   "execution_count": null,
   "metadata": {},
   "outputs": [],
   "source": []
  }
 ]
}