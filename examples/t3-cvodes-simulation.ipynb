{
 "cells": [
  {
   "cell_type": "markdown",
   "metadata": {},
   "source": [
    "# Technical note: CVODE(S) simulation"
   ]
  },
  {
   "cell_type": "markdown",
   "metadata": {},
   "source": [
    "Myokit's `Simulation` class uses the CVODE routine from the Sundials package to integrate systems of ODEs.\n",
    "\n",
    "Given a system\n",
    "\\begin{align}\n",
    "\\dot{y}\\left(t\\right) &= f\\left(y\\left(t\\right),u\\left(t\\right),t|p\\right) \\\\\n",
    "y(t_0) &= y_0\n",
    "\\end{align}\n",
    "\n",
    "where $y$ is the state, $u$ are external inputs, and $p$ are parameters, CVODE can estimate $y(t)$ by integrating from $t_0$ to $t$."
   ]
  },
  {
   "cell_type": "markdown",
   "metadata": {},
   "source": [
    "In addition, Sundials provides a CVODES method that extends CVODE with the capability to perform _forward sensitivity analysis_, i.e. to calculate\n",
    "\n",
    "\\begin{equation}\n",
    "\\frac{\\partial}{\\partial p_i} y_j(t)$\n",
    "\\end{equation}\n",
    "and\n",
    "\\begin{equation}\n",
    "\\frac{\\partial}{\\partial y_i(t=t_0)} y_j(t)$\n",
    "\\end{equation}\n",
    "\n",
    "for any state $y_j$, parameter $p_i$, and initial condition $y_i(t=t_0)$.\n",
    "\n",
    "Documentation for CVODE and CVODES can be found on the [Sundials website](https://computing.llnl.gov/projects/sundials)"
   ]
  },
  {
   "cell_type": "markdown",
   "metadata": {},
   "source": [
    "## Naming"
   ]
  },
  {
   "cell_type": "markdown",
   "metadata": {},
   "source": [
    "Starting from version 1.33.0, Myokit uses the CVODES C api for simulations with and without sensitivities.\n",
    "However, as CVODES-without-sensitivities reduces to CVODE, we use both names throughout the documentation."
   ]
  },
  {
   "cell_type": "markdown",
   "metadata": {},
   "source": [
    "## Implementation choices"
   ]
  },
  {
   "cell_type": "markdown",
   "metadata": {},
   "source": [
    "- Myokit uses CVODE's \"Backwards Different Formulas\" (BDF) integrator for stiff methods\n",
    "- Because this is an implicit method, at each step a nonlinear system must be solved, for which the \"Newton iteration\" method is chosen.\n",
    "- During integration, CVODE estimates the Jacobian $\\frac{\\partial f}{\\partial y}$ using \"difference quotients\" (see the CVODE/CVODES manual section 2.1).\n",
    "\n",
    "Step sizes:\n",
    "- Instead of asking CVODES to integrate from some $t_\\text{min}$ to $t_\\text{max}$, Myokit uses the `CV_ONE_STEP` approach where CVODE just makes a single step of whatever length it determines is best.\n",
    "- If this step passes over discontinuity (as indicated by the pacing protocol) at some time $t$, the state at $t$ is obtained (from CVODE, which uses a higher-order linear interpolation), and the simulation is reset to that point.\n",
    "- If this step passes over one or multiple logging points, the state at those points is estimated (using interpolation again) without resetting the simulator."
   ]
  },
  {
   "cell_type": "markdown",
   "metadata": {},
   "source": [
    "## Sensitivities"
   ]
  },
  {
   "cell_type": "markdown",
   "metadata": {},
   "source": [
    "todo"
   ]
  },
  {
   "cell_type": "markdown",
   "metadata": {},
   "source": []
  },
  {
   "cell_type": "markdown",
   "metadata": {},
   "source": [
    "## CModel class"
   ]
  },
  {
   "cell_type": "markdown",
   "metadata": {},
   "source": [
    "In Myokit version 1.33.0 and after, an attempt has been made to separate the CVODE(s) simulator code from the model code wherever possible.\n",
    "This is described in detail in the `cmodel.h` header template, which implements a C model interface for Myokit models."
   ]
  }
 ],
 "metadata": {
  "kernelspec": {
   "display_name": "Python 3",
   "language": "python",
   "name": "python3"
  },
  "language_info": {
   "codemirror_mode": {
    "name": "ipython",
    "version": 3
   },
   "file_extension": ".py",
   "mimetype": "text/x-python",
   "name": "python",
   "nbconvert_exporter": "python",
   "pygments_lexer": "ipython3",
   "version": "3.9.5"
  }
 },
 "nbformat": 4,
 "nbformat_minor": 4
}
