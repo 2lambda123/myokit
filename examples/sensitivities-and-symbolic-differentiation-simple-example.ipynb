{
 "metadata": {
  "language_info": {
   "codemirror_mode": {
    "name": "ipython",
    "version": 3
   },
   "file_extension": ".py",
   "mimetype": "text/x-python",
   "name": "python",
   "nbconvert_exporter": "python",
   "pygments_lexer": "ipython3",
   "version": "3.7.5"
  },
  "orig_nbformat": 2,
  "kernelspec": {
   "name": "python37564bitvenvvenv244669d31e9a466f969539273faabb23",
   "display_name": "Python 3.7.5 64-bit ('venv': venv)"
  },
  "metadata": {
   "interpreter": {
    "hash": "b549ef8f725765840b8dee59019bf30e3a95fb7451225767d231cdd0f14b14d2"
   }
  }
 },
 "nbformat": 4,
 "nbformat_minor": 2,
 "cells": [
  {
   "source": [
    "# Sensitivities and symbolic differentiation\n",
    "\n",
    "The standard formulation of forward sensitivities is\n",
    "\n",
    " - State: $y = y(p, t)$\n",
    " - Constant or an initial state value: $p$ \n",
    " - State derivatives: $f(y, p) = \\frac{\\mathrm{d}y}{\\mathrm{d}t}$, this is the myokit.Model\n",
    " - Sensitivities: $s = \\frac{\\mathrm{d}y}{\\mathrm{d}p}$\n",
    " - Sensitivity ODEs: $\\frac{\\mathrm{d}s}{\\mathrm{d}t} = \\frac{\\partial f}{\\partial y}s + \\frac{\\partial f}{\\partial p}$\n",
    "\n",
    "The final sensitivity ODE expression assumes that there are no intermediate expressions that may implicitly depend on time, parameters or other states.\n",
    "\n",
    "In myokit, we might also be interested in the sensitivities of an intermediate expression. Those can be straightforwadly derived from the above sensitivities\n",
    "\n",
    " - Intermediate: $x = x(y, p, t)$\n",
    " - Sensitivities: $\\frac{\\mathrm{d}x}{\\mathrm{d}p} = \\frac{\\partial x}{\\partial y}s + \\frac{\\partial x}{\\partial p}$."
   ],
   "cell_type": "markdown",
   "metadata": {}
  },
  {
   "cell_type": "code",
   "execution_count": 7,
   "metadata": {},
   "outputs": [],
   "source": [
    "import os\n",
    "\n",
    "import myokit\n",
    "from myokit.formats.sbml import SBMLImporter"
   ]
  },
  {
   "source": [
    "## Model: Bacterial growth under drug exposure\n",
    "\n",
    "In this model, we assume that the total bacterial population is composed of a wild type strain $b_w$ and a mutant strain $b_m$\n",
    "\\begin{equation}\n",
    "    b = b_w + b_m.\n",
    "\\end{equation}\n",
    "\n",
    "Here $b$, $b_w$ and $b_m$ is the bacterial count. The growth of the wild type under exposure to the drug is modelled by an exponential growth $\\lambda $ and a drug-induced killing $\\kappa_w $ as well as mutation rate $\\mu $\n",
    "\\begin{equation}\n",
    "    \\frac{\\text{d}b_w}{\\text{d}t} =\n",
    "        \\lambda b_w\n",
    "        - \\kappa _w c b_w\n",
    "        - \\mu c b_w.\n",
    "\\end{equation}\n",
    "\n",
    "The mutant population is resistant to the drug and experiences a Hill-like killing with maximal killing rate $\\kappa _m$ and EC50 $c_{50}$\n",
    "\\begin{equation}\n",
    "    \\frac{\\text{d}b_m}{\\text{d}t} =\n",
    "        \\lambda b_m\n",
    "        - \\kappa _m\\frac{c}{c - c_{50}}b_m\n",
    "        + \\mu c b_w.\n",
    "\\end{equation}\n",
    "\n",
    "The drug is administered directly to the bacterial environment\n",
    "\n",
    "\\begin{equation}\n",
    "    \\frac{\\text{d}a}{\\text{d}t} = -ka + r_{\\text{dose}}(t), \\quad \\mathrm{and} \\quad c = \\frac{a}{v},\n",
    "\\end{equation}\n",
    "\n",
    "where $a$ is the amount of the drug, $k$ is the elimination rate and $r_{\\text{dose}}$ dose rate. $c$ is the drug concentration and $v$ is the effective volume of distribution of the drug."
   ],
   "cell_type": "markdown",
   "metadata": {}
  },
  {
   "cell_type": "code",
   "execution_count": 11,
   "metadata": {},
   "outputs": [
    {
     "output_type": "stream",
     "name": "stdout",
     "text": [
      "[[model]]\nname: adaptive_resistance\n# Initial values\nmyokit.bacterial_count_adapted     = 1\nmyokit.bacterial_count_susceptible = 1\ncentral.drug_amount                = 0\n\n[central]\ndot(drug_amount) = -(size * myokit.elimination_rate * drug_concentration)\n    in [kg (1e-06)]\ndrug_concentration = drug_amount / size\n    in [g/m^3]\nsize = 1\n    in [L]\n\n[myokit]\ndot(bacterial_count_adapted) = (growth_rate - kappa_adapted * (central.drug_concentration^gamma / (central.drug_concentration^gamma + concentration_e50_adapted^gamma))) * bacterial_count_adapted + mutation_rate * central.drug_concentration * bacterial_count_susceptible\n    in [1/m^3 (1000)]\ndot(bacterial_count_susceptible) = (growth_rate - (kappa_susceptible * central.drug_concentration + mutation_rate * central.drug_concentration)) * bacterial_count_susceptible\n    in [1/m^3 (1000)]\nconcentration_e50_adapted = 1\n    in [g/m^3]\nelimination_rate = 1\n    in [S/F (0.0002777777777777778)]\ngamma = 1\n    in [1]\ngrowth_rate = 1\n    in [S/F (0.0002777777777777778)]\nkappa_adapted = 1\n    in [S/F (0.0002777777777777778)]\nkappa_susceptible = 1\n    in [m^3/g/s (0.0002777777777777778)]\nmutation_rate = 1\n    in [m^3/g/s (0.0002777777777777778)]\ntime = 0 bind time\n    in [s (3600)]\ntotal_bacterial_count = bacterial_count_susceptible + bacterial_count_adapted\n    in [1/m^3 (1000)]\n\n\n"
     ]
    }
   ],
   "source": [
    "directory = os.getcwd()\n",
    "path = os.path.join(directory, 'models/simple_kill_and_resistance_model.xml')\n",
    "model = SBMLImporter().model(path)\n",
    "print(model.code())"
   ]
  },
  {
   "source": [
    "## Compute sensitivities analytically"
   ],
   "cell_type": "markdown",
   "metadata": {}
  },
  {
   "source": [
    "The quantity that's typically measured in experiments is the total bacterial count $b$. So, we are interested in the sensitivities of $b$.\n",
    "\n",
    "In this case, $b$ does not explicitly depend on any parameters $\\frac{\\partial b}{\\partial p}=0$, and the depends linearly on the states $\\frac{\\partial b}{\\partial b_w} = \\frac{\\partial b}{\\partial b_w} = 1$. Thus, the sensitivities to all parameters are given by\n",
    "\\begin{equation}\n",
    "    \\frac{\\mathrm{d}b}{\\mathrm{d}p} = \n",
    "        \\frac{\\mathrm{d}b_w}{\\mathrm{d}p} + \\frac{\\mathrm{d}b_m}{\\mathrm{d}p}.\n",
    "\\end{equation}\n",
    "\n",
    "#### Sensitivity to $\\lambda$:\n",
    "For ease of notation we use a superscript to indicate the subgroup and a subscript to indicate the parameter\n",
    "\\begin{equation}\n",
    "    \\frac{\\mathrm{d}s^{w}_{\\lambda}}{\\mathrm{d}t} = \n",
    "        \\left( \n",
    "            \\lambda - \\kappa _w c - \\mu c\n",
    "        \\right) s^{w}_{\\lambda} + b_w\n",
    "    \\quad \\mathrm{and} \\quad\n",
    "    \\frac{\\mathrm{d}s^{m}_{\\lambda}}{\\mathrm{d}t} = \n",
    "        \\left( \n",
    "            \\lambda - \\kappa _m\\frac{c}{c - c_{50}}\n",
    "        \\right) s^{m}_{\\lambda} + b_m.\n",
    "\\end{equation}\n",
    "\n",
    "#### Sensitivity to $\\kappa _w$:\n",
    "\\begin{equation}\n",
    "    \\frac{\\mathrm{d}s^{w}_{\\kappa _w}}{\\mathrm{d}t} = \n",
    "        \\left( \n",
    "            \\lambda - \\kappa _w c - \\mu c\n",
    "        \\right) s^{w}_{\\kappa _w} + c b_w\n",
    "    \\quad \\mathrm{and} \\quad\n",
    "    \\frac{\\mathrm{d}s^{m}_{\\kappa _w}}{\\mathrm{d}t} = \n",
    "        0.\n",
    "\\end{equation}\n",
    "\n",
    "#### Sensitivity to $\\mu$:\n",
    "\\begin{equation}\n",
    "    \\frac{\\mathrm{d}s^{w}_{\\mu}}{\\mathrm{d}t} = \n",
    "        \\left( \n",
    "            \\lambda - \\kappa _w c - \\mu c\n",
    "        \\right) s^{w}_{\\mu} + c b_w\n",
    "    \\quad \\mathrm{and} \\quad\n",
    "    \\frac{\\mathrm{d}s^{m}_{\\mu}}{\\mathrm{d}t} = \n",
    "        \\left( \n",
    "            \\lambda - \\kappa _m\\frac{c}{c - c_{50}}\n",
    "        \\right) s^{m}_{\\mu} + c b_m.\n",
    "\\end{equation}\n",
    "\n",
    "#### Sensitivity to $\\kappa _m$:\n",
    "\\begin{equation}\n",
    "    \\frac{\\mathrm{d}s^{w}_{\\kappa _m}}{\\mathrm{d}t} = \n",
    "        0\n",
    "    \\quad \\mathrm{and} \\quad\n",
    "    \\frac{\\mathrm{d}s^{m}_{\\kappa _m}}{\\mathrm{d}t} = \n",
    "        \\left( \n",
    "            \\lambda - \\kappa _m\\frac{c}{c - c_{50}}\n",
    "        \\right) s^{m}_{\\kappa _m} + \\frac{c}{c - c_{50}}b_w.\n",
    "\\end{equation}\n",
    "\n",
    "#### Sensitivity to $c_{50}$:\n",
    "\\begin{equation}\n",
    "    \\frac{\\mathrm{d}s^{w}_{c_{50}}}{\\mathrm{d}t} = \n",
    "        0\n",
    "    \\quad \\mathrm{and} \\quad\n",
    "    \\frac{\\mathrm{d}s^{m}_{c_{50}}}{\\mathrm{d}t} = \n",
    "        \\left( \n",
    "            \\lambda - \\kappa _m\\frac{c}{c - c_{50}}\n",
    "        \\right) s^{m}_{c_{50}} + \\kappa_m\\frac{c}{(c - c_{50})^2}b_w.\n",
    "\\end{equation}\n",
    "\n",
    "#### Sensitivity to $v$:\n",
    "The sensitivity to $v$ is interesting, because $b$ depends on $v$ implicitly through either $b_w$ or $b_m$ and $c$. The sensitivity might be abstractly expressed as\n",
    "\\begin{equation}\n",
    "    \\frac{\\mathrm{d}s^{i}_v}{\\mathrm{d}t} = \\frac{\\mathrm{d}}{\\mathrm{d}v} f(b_i, c, v) =  \\frac{\\partial f}{\\partial b_i}s^{i}_v + \\frac{\\partial f}{\\partial c}\\frac{\\mathrm{d}c}{\\mathrm{d}v} + \\frac{\\partial f}{\\partial v}.\n",
    "\\end{equation}\n",
    "In this case, $\\frac{\\partial f}{\\partial v} = 0$. Thus, the sensitivities are given by\n",
    "\\begin{equation}\n",
    "    \\frac{\\mathrm{d}s^{w}_{v}}{\\mathrm{d}t} = \n",
    "        \\left( \n",
    "            \\lambda - \\kappa _w c - \\mu c\n",
    "        \\right) s^{w}_{v} +\n",
    "        \\left( \n",
    "            \\kappa _w b_w + \\mu b_w\n",
    "        \\right) \\frac{a}{v^2}\n",
    "    \\quad \\mathrm{and} \\quad\n",
    "    \\frac{\\mathrm{d}s^{m}_{v}}{\\mathrm{d}t} = \n",
    "        \\left( \n",
    "            \\lambda - \\kappa _m\\frac{c}{c - c_{50}}\n",
    "        \\right) s^{m}_{v} -\n",
    "        \\left( \n",
    "            \\mu b_w - \\kappa _m\\frac{1}{c - c_{50}} b_m + \\kappa _m\\frac{c}{(c - c_{50})^2} b_m\n",
    "        \\right) \\frac{a}{v^2}\n",
    "\\end{equation}"
   ],
   "cell_type": "markdown",
   "metadata": {}
  },
  {
   "cell_type": "code",
   "execution_count": null,
   "metadata": {},
   "outputs": [],
   "source": []
  }
 ]
}