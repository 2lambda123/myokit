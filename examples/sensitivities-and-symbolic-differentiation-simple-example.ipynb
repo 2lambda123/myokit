{
 "metadata": {
  "language_info": {
   "codemirror_mode": {
    "name": "ipython",
    "version": 3
   },
   "file_extension": ".py",
   "mimetype": "text/x-python",
   "name": "python",
   "nbconvert_exporter": "python",
   "pygments_lexer": "ipython3",
   "version": "3.7.5"
  },
  "orig_nbformat": 2,
  "kernelspec": {
   "name": "python37564bitvenvvenv244669d31e9a466f969539273faabb23",
   "display_name": "Python 3.7.5 64-bit ('venv': venv)"
  },
  "metadata": {
   "interpreter": {
    "hash": "b549ef8f725765840b8dee59019bf30e3a95fb7451225767d231cdd0f14b14d2"
   }
  }
 },
 "nbformat": 4,
 "nbformat_minor": 2,
 "cells": [
  {
   "source": [
    "# Sensitivities and symbolic differentiation\n",
    "\n",
    "The standard formulation of forward sensitivities is\n",
    "\n",
    " - State: $y = y(p, t)$\n",
    " - Constant or an initial state value: $p$ \n",
    " - State derivatives: $f(y, p, t) = \\frac{\\mathrm{d}y}{\\mathrm{d}t}$, this is the myokit.Model\n",
    " - Sensitivities: $s = \\frac{\\mathrm{d}y}{\\mathrm{d}p}$\n",
    " - Sensitivity ODEs: $\\frac{\\mathrm{d}s}{\\mathrm{d}t} = \\frac{\\mathrm{d}}{\\mathrm{d}p}\\frac{\\mathrm{d}y}{\\mathrm{d}t} = \\frac{\\partial f}{\\partial y}s + \\frac{\\partial f}{\\partial p}$,\n",
    "    where the first equality follows from the commutativity of the time derivative and the parameter derivative (the parameter are constant in time). The second equality follows from substituting $f(y, p t)$ and writing out the total derivative w.r.t. to $p$.\n",
    "\n",
    "The final sensitivity ODE expression assumes that there are no intermediate expressions that may implicitly depend on time, parameters or other states.\n",
    "\n",
    "In myokit, we might also be interested in the sensitivities of an intermediate expression. Those can be straightforwadly derived from the above sensitivities\n",
    "\n",
    " - Intermediate: $x = x(y, p, t)$\n",
    " - Sensitivities: $\\frac{\\mathrm{d}x}{\\mathrm{d}p} = \\frac{\\partial x}{\\partial y}s + \\frac{\\partial x}{\\partial p}$."
   ],
   "cell_type": "markdown",
   "metadata": {}
  },
  {
   "cell_type": "code",
   "execution_count": 1,
   "metadata": {},
   "outputs": [
    {
     "output_type": "stream",
     "name": "stderr",
     "text": [
      "WARNING:myokit:Using development version of Myokit (1.33.0.dev).\n"
     ]
    }
   ],
   "source": [
    "import os\n",
    "\n",
    "import myokit\n",
    "from myokit.formats.sbml import SBMLImporter"
   ]
  },
  {
   "source": [
    "## Model: Bacterial growth under drug exposure\n",
    "\n",
    "In this model, we assume that the total bacterial population is composed of a wild type strain $b_w$ and a mutant strain $b_m$\n",
    "\\begin{equation}\n",
    "    b = b_w + b_m.\n",
    "\\end{equation}\n",
    "\n",
    "Here $b$, $b_w$ and $b_m$ is the bacterial count. The growth of the wild type under exposure to the drug is modelled by an exponential growth $\\lambda $ and a drug-induced killing $\\kappa_w $ as well as mutation rate $\\mu $\n",
    "\\begin{equation}\n",
    "    \\frac{\\text{d}b_w}{\\text{d}t} =\n",
    "        \\lambda b_w\n",
    "        - \\kappa _w c b_w\n",
    "        - \\mu c b_w.\n",
    "\\end{equation}\n",
    "\n",
    "The mutant population is resistant to the drug and experiences a Hill-like killing with maximal killing rate $\\kappa _m$ and EC50 $c_{50}$\n",
    "\\begin{equation}\n",
    "    \\frac{\\text{d}b_m}{\\text{d}t} =\n",
    "        \\lambda b_m\n",
    "        - \\kappa _m\\frac{c}{c - c_{50}}b_m\n",
    "        + \\mu c b_w.\n",
    "\\end{equation}\n",
    "\n",
    "The drug is administered directly to the bacterial environment\n",
    "\n",
    "\\begin{equation}\n",
    "    \\frac{\\text{d}a}{\\text{d}t} = -ka + r_{\\text{dose}}(t), \\quad \\mathrm{and} \\quad c = \\frac{a}{v},\n",
    "\\end{equation}\n",
    "\n",
    "where $a$ is the amount of the drug, $k$ is the elimination rate and $r_{\\text{dose}}$ dose rate. $c$ is the drug concentration and $v$ is the effective volume of distribution of the drug."
   ],
   "cell_type": "markdown",
   "metadata": {}
  },
  {
   "cell_type": "code",
   "execution_count": 2,
   "metadata": {},
   "outputs": [
    {
     "output_type": "stream",
     "name": "stdout",
     "text": [
      "[[model]]\nname: adaptive_resistance\n# Initial values\nmyokit.bacterial_count_adapted     = 1\nmyokit.bacterial_count_susceptible = 1\ncentral.drug_amount                = 0\n\n[central]\ndot(drug_amount) = -(size * myokit.elimination_rate * drug_concentration)\n    in [kg (1e-06)]\ndrug_concentration = drug_amount / size\n    in [g/m^3]\nsize = 1\n    in [L]\n\n[myokit]\ndot(bacterial_count_adapted) = (growth_rate - kappa_adapted * (central.drug_concentration^gamma / (central.drug_concentration^gamma + concentration_e50_adapted^gamma))) * bacterial_count_adapted + mutation_rate * central.drug_concentration * bacterial_count_susceptible\n    in [1/m^3 (1000)]\ndot(bacterial_count_susceptible) = (growth_rate - (kappa_susceptible * central.drug_concentration + mutation_rate * central.drug_concentration)) * bacterial_count_susceptible\n    in [1/m^3 (1000)]\nconcentration_e50_adapted = 1\n    in [g/m^3]\nelimination_rate = 1\n    in [S/F (0.0002777777777777778)]\ngamma = 1\n    in [1]\ngrowth_rate = 1\n    in [S/F (0.0002777777777777778)]\nkappa_adapted = 1\n    in [S/F (0.0002777777777777778)]\nkappa_susceptible = 1\n    in [m^3/g/s (0.0002777777777777778)]\nmutation_rate = 1\n    in [m^3/g/s (0.0002777777777777778)]\ntime = 0 bind time\n    in [s (3600)]\ntotal_bacterial_count = bacterial_count_susceptible + bacterial_count_adapted\n    in [1/m^3 (1000)]\n\n\n"
     ]
    }
   ],
   "source": [
    "directory = os.getcwd()\n",
    "path = os.path.join(directory, 'models/simple_kill_and_resistance_model.xml')\n",
    "model = SBMLImporter().model(path)\n",
    "print(model.code())"
   ]
  },
  {
   "source": [
    "## Compute sensitivities analytically"
   ],
   "cell_type": "markdown",
   "metadata": {}
  },
  {
   "source": [
    "The quantity that's typically measured in experiments is the total bacterial count $b$. So, we are interested in the sensitivities of $b$.\n",
    "\n",
    "In this case, $b$ does not explicitly depend on any parameters $\\frac{\\partial b}{\\partial p}=0$, and the depends linearly on the states $\\frac{\\partial b}{\\partial b_w} = \\frac{\\partial b}{\\partial b_w} = 1$. Thus, the sensitivities to all parameters are given by\n",
    "\\begin{equation}\n",
    "    \\frac{\\mathrm{d}b}{\\mathrm{d}p} = \n",
    "        \\frac{\\mathrm{d}b_w}{\\mathrm{d}p} + \\frac{\\mathrm{d}b_m}{\\mathrm{d}p}.\n",
    "\\end{equation}\n",
    "\n",
    "Without loss of generality, the initial conditions of the sensitivity ODEs are $s(t=0) = 1$ for the sensitivity of states w.r.t. their own initial conditions of states and $s(t=0) = 0$ else. As a result, $\\dot{s}=0$ implies $s \\equiv 1$ for the initial conditions of the same states and $s \\equiv 0$ for all other parameters.\n",
    "\n",
    "### Sensitivities to parameters that are not initial conditions:\n",
    "For all subsequent sensitivity ODEs, the initial conditions are $s(t=0) = 0$.\n",
    "\n",
    "#### Sensitivity to $\\lambda$:\n",
    "For ease of notation we use a superscript to indicate the subgroup and a subscript to indicate the parameter\n",
    "\\begin{equation}\n",
    "    \\frac{\\mathrm{d}s^{w}_{\\lambda}}{\\mathrm{d}t} = \n",
    "        \\left( \n",
    "            \\lambda - \\kappa _w c - \\mu c\n",
    "        \\right) s^{w}_{\\lambda} + b_w\n",
    "    \\quad \\mathrm{and} \\quad\n",
    "    \\frac{\\mathrm{d}s^{m}_{\\lambda}}{\\mathrm{d}t} = \n",
    "        \\left( \n",
    "            \\lambda - \\kappa _m\\frac{c}{c - c_{50}}\n",
    "        \\right) s^{m}_{\\lambda} + \\mu c s^{w}_{\\lambda} + b_m.\n",
    "\\end{equation}\n",
    "\n",
    "#### Sensitivity to $\\kappa _w$:\n",
    "\\begin{equation}\n",
    "    \\frac{\\mathrm{d}s^{w}_{\\kappa _w}}{\\mathrm{d}t} = \n",
    "        \\left( \n",
    "            \\lambda - \\kappa _w c - \\mu c\n",
    "        \\right) s^{w}_{\\kappa _w} + c b_w\n",
    "    \\quad \\mathrm{and} \\quad\n",
    "    \\frac{\\mathrm{d}s^{m}_{\\kappa _w}}{\\mathrm{d}t} = \n",
    "        \\mu c s^{w}_{\\kappa _w}.\n",
    "\\end{equation}\n",
    "\n",
    "#### Sensitivity to $\\mu$:\n",
    "\\begin{equation}\n",
    "    \\frac{\\mathrm{d}s^{w}_{\\mu}}{\\mathrm{d}t} = \n",
    "        \\left( \n",
    "            \\lambda - \\kappa _w c - \\mu c\n",
    "        \\right) s^{w}_{\\mu} + c b_w\n",
    "    \\quad \\mathrm{and} \\quad\n",
    "    \\frac{\\mathrm{d}s^{m}_{\\mu}}{\\mathrm{d}t} = \n",
    "        \\left( \n",
    "            \\lambda - \\kappa _m\\frac{c}{c - c_{50}}\n",
    "        \\right) s^{m}_{\\mu} + \\mu c s^{w}_{\\mu} + c b_w.\n",
    "\\end{equation}\n",
    "\n",
    "#### Sensitivity to $\\kappa _m$:\n",
    "\\begin{equation}\n",
    "    \\frac{\\mathrm{d}s^{w}_{\\kappa _m}}{\\mathrm{d}t} = \n",
    "        0\n",
    "    \\quad \\mathrm{and} \\quad\n",
    "    \\frac{\\mathrm{d}s^{m}_{\\kappa _m}}{\\mathrm{d}t} = \n",
    "        \\left( \n",
    "            \\lambda - \\kappa _m\\frac{c}{c - c_{50}}\n",
    "        \\right) s^{m}_{\\kappa _m} + \\frac{c}{c - c_{50}}b_w.\n",
    "\\end{equation}\n",
    "\n",
    "#### Sensitivity to $c_{50}$:\n",
    "\\begin{equation}\n",
    "    \\frac{\\mathrm{d}s^{w}_{c_{50}}}{\\mathrm{d}t} = \n",
    "        0\n",
    "    \\quad \\mathrm{and} \\quad\n",
    "    \\frac{\\mathrm{d}s^{m}_{c_{50}}}{\\mathrm{d}t} = \n",
    "        \\left( \n",
    "            \\lambda - \\kappa _m\\frac{c}{c - c_{50}}\n",
    "        \\right) s^{m}_{c_{50}} + \\kappa_m\\frac{c}{(c - c_{50})^2}b_w.\n",
    "\\end{equation}\n",
    "\n",
    "#### Sensitivity to $v$:\n",
    "The sensitivity to $v$ is interesting, because $b$ depends on $v$ implicitly through either $b_w$ or $b_m$ and $c$. The sensitivity might be abstractly expressed as\n",
    "\\begin{equation}\n",
    "    \\frac{\\mathrm{d}s^{i}_v}{\\mathrm{d}t} = \\frac{\\mathrm{d}}{\\mathrm{d}v} f(b_i, c, v) =  \\frac{\\partial f}{\\partial b_i}s^{i}_v + \\frac{\\partial f}{\\partial c}\\frac{\\mathrm{d}c}{\\mathrm{d}v} + \\frac{\\partial f}{\\partial v}.\n",
    "\\end{equation}\n",
    "In this case, $\\frac{\\partial f}{\\partial v} = 0$. Thus, the sensitivities are given by\n",
    "\\begin{equation}\n",
    "    \\frac{\\mathrm{d}s^{w}_{v}}{\\mathrm{d}t} = \n",
    "        \\left( \n",
    "            \\lambda - \\kappa _w c - \\mu c\n",
    "        \\right) s^{w}_{v} +\n",
    "        \\left( \n",
    "            \\kappa _w b_w + \\mu b_w\n",
    "        \\right) \\frac{a}{v^2}\n",
    "    \\quad \\mathrm{and} \\quad\n",
    "    \\frac{\\mathrm{d}s^{m}_{v}}{\\mathrm{d}t} = \n",
    "        \\left( \n",
    "            \\lambda - \\kappa _m\\frac{c}{c - c_{50}}\n",
    "        \\right) s^{m}_{v} + \\mu c s^{w}_{v} -\n",
    "        \\left( \n",
    "            \\mu b_w - \\kappa _m\\frac{1}{c - c_{50}} b_m + \\kappa _m\\frac{c}{(c - c_{50})^2} b_m\n",
    "        \\right) \\frac{a}{v^2}\n",
    "\\end{equation}\n",
    "\n",
    "#### Sensitivity to $k$:\n",
    "The sensitivity to $k$ is even deeper rooted than the sensitivity to $v$. The sensitivity might be abstractly expressed as\n",
    "\\begin{equation}\n",
    "    \\frac{\\mathrm{d}s^{i}_k}{\\mathrm{d}t} = \\frac{\\mathrm{d}}{\\mathrm{d}k} f(b_i, c(a, k), k) =  \\frac{\\partial f}{\\partial b_i}s^{i}_k + \\frac{\\partial f}{\\partial c}\\left( \\frac{\\partial c}{\\partial a}\\frac{\\mathrm{d}a}{\\mathrm{d}k} + \\frac{\\partial c}{\\partial k}\\right) + \\frac{\\partial f}{\\partial k}.\n",
    "\\end{equation}\n",
    "In this case, $\\frac{\\partial c}{\\partial k} = \\frac{\\partial f}{\\partial k} = 0$. Thus, the sensitivities are given by\n",
    "\\begin{equation}\n",
    "    \\frac{\\mathrm{d}s^{w}_{k}}{\\mathrm{d}t} = \n",
    "        \\left( \n",
    "            \\lambda - \\kappa _w c - \\mu c\n",
    "        \\right) s^{w}_{k} -\n",
    "        \\left( \n",
    "            \\kappa _w b_w + \\mu b_w\n",
    "        \\right) \\frac{1}{v}\\frac{\\mathrm{d}a}{\\mathrm{d}k}\n",
    "    \\quad \\mathrm{and} \\quad\n",
    "    \\frac{\\mathrm{d}s^{m}_{k}}{\\mathrm{d}t} = \n",
    "        \\left( \n",
    "            \\lambda - \\kappa _m\\frac{c}{c - c_{50}}\n",
    "        \\right) s^{m}_{v} + \\mu c s^{w}_{k} +\n",
    "        \\left( \n",
    "            \\mu b_w - \\kappa _m\\frac{1}{c - c_{50}} b_m + \\kappa _m\\frac{c}{(c - c_{50})^2} b_m\n",
    "        \\right) \\frac{1}{v}\\frac{\\mathrm{d}a}{\\mathrm{d}k}\n",
    "\\end{equation}\n",
    "\n",
    "#### Sensitivity of $a$ to $k$:\n",
    "The sensitivity of $a$ to $k$ has to be computed with an additional forward sensitivity ODE\n",
    "\\begin{equation}\n",
    "    \\frac{\\mathrm{d}s^{a}_{k}}{\\mathrm{d}t} = \n",
    "        -k s^{a}_{k} - a,\n",
    "\\end{equation}\n",
    "\n",
    "where $s^{a}_{k} := \\frac{\\mathrm{d}a}{\\mathrm{d}k}$.\n",
    "\n",
    "### Sensitivities to initial conditions:\n",
    "For all subsequent sensitivity ODEs, the initial conditions are $s(t=0) = 1$ for the sensitivities of states to their own initial conditions and $s(t=0) = 0$ otherwise.\n",
    "\n",
    "#### Sensitivity to $b_{w,0}$:\n",
    "\\begin{equation}\n",
    "    \\frac{\\mathrm{d}s^{w}_{b_{w,0}}}{\\mathrm{d}t} = \n",
    "        \\left( \n",
    "            \\lambda - \\kappa _w c - \\mu c\n",
    "        \\right) s^{w}_{b_{w,0}}\n",
    "    \\quad \\mathrm{and} \\quad\n",
    "    \\frac{\\mathrm{d}s^{m}_{\\lambda}}{\\mathrm{d}t} = \n",
    "        \\left( \n",
    "            \\lambda - \\kappa _m\\frac{c}{c - c_{50}}\n",
    "        \\right) s^{m}_{b_{w,0}} + \\mu c s^{w}_{b_{w,0}}.\n",
    "\\end{equation}\n",
    "\n",
    "#### Sensitivity to $b_{m, 0}$:\n",
    "\\begin{equation}\n",
    "    \\frac{\\mathrm{d}s^{w}_{b_{m, 0}}}{\\mathrm{d}t} = \n",
    "        0\n",
    "    \\quad \\mathrm{and} \\quad\n",
    "    \\frac{\\mathrm{d}s^{m}_{b_{m, 0}}}{\\mathrm{d}t} = \n",
    "        \\left( \n",
    "            \\lambda - \\kappa _m\\frac{c}{c - c_{50}}\n",
    "        \\right) s^{m}_{b_{m, 0}}.\n",
    "\\end{equation}\n",
    "\n",
    "#### Sensitivity to $a_0$:\n",
    "\\begin{equation}\n",
    "    \\frac{\\mathrm{d}s^{w}_{a_0}}{\\mathrm{d}t} = \n",
    "        \\left( \n",
    "            \\lambda - \\kappa _w c - \\mu c\n",
    "        \\right) s^{w}_{a_0} -\n",
    "        \\left( \n",
    "            \\kappa _w b_w + \\mu b_w\n",
    "        \\right) \\frac{1}{v}s^{a}_{a_0}\n",
    "    \\quad \\mathrm{and} \\quad\n",
    "    \\frac{\\mathrm{d}s^{m}_{a_0}}{\\mathrm{d}t} = \n",
    "        \\left( \n",
    "            \\lambda - \\kappa _m\\frac{c}{c - c_{50}}\n",
    "        \\right) s^{m}_{a_0} + \\mu c s^{w}_{a_0} +\n",
    "        \\left( \n",
    "            \\mu b_w - \\kappa _m\\frac{1}{c - c_{50}} b_m + \\kappa _m\\frac{c}{(c - c_{50})^2} b_m\n",
    "        \\right) \\frac{1}{v}s^{a}_{a_0}\n",
    "    \\quad \\mathrm{and} \\quad\n",
    "        \\frac{\\mathrm{d}s^{a}_{a_0}}{\\mathrm{d}t} = \n",
    "            -k s^{a}_{a_0}.\n",
    "\\end{equation}"
   ],
   "cell_type": "markdown",
   "metadata": {}
  },
  {
   "source": [
    "## Algorithm to derive sensitivity ODEs\n",
    "\n",
    "From this toy example, we can see that in order to derive the sensitivities of either states or intermediate expressions, we need to keep track of explicit and implicit dependencies of the right hand side of any expression of interest. In order for a state or intermediate expressionto have a non-vanishing sensitivity to a model parameter, it has to either explicitly depend on that parameter or implicitly depend on the parameter through (possibly multiple) states or intermediate expressions. If a state is sensitive to a parameter, the above construction leads to an ODE for the sensitivity. If an intermediate expression is sensitive to a parameter, we obtain an algebraic expression for its sensitivity. It's important to note that forward sensitivities can lead to coupled systems of sensitivity ODEs, which might justify a more explicit notation\n",
    "\n",
    "\\begin{equation}\n",
    "    \\frac{\\mathrm{d}s^i}{\\mathrm{d}t} = \\sum _j \\frac{\\partial f^i}{\\partial y^j}s^j + \\sum _k \\frac{\\partial f^i}{\\partial x^k}\\frac{\\mathrm{d}x^k}{\\mathrm{d}p} + \\frac{\\partial f^i}{\\partial p}\n",
    "\\end{equation}\n",
    "\\begin{equation}\n",
    "    \\frac{\\mathrm{d}x^i}{\\mathrm{d}p} = \\sum _j \\frac{\\partial f^i}{\\partial y^j}s^j + \\sum _{k\\neq i} \\frac{\\partial f^i}{\\partial x^k}\\frac{\\mathrm{d}x^k}{\\mathrm{d}p} + \\frac{\\partial f^i}{\\partial p},\n",
    "\\end{equation}\n",
    "\n",
    "where the $j$ runs over all states and $k$ runs over all intermediate expressions. $f^i$ is the right hand side of either the state or intermediate expression $y^i$ or $x^i$.\n",
    "\n",
    "This puts us in a position to formulate a simple algorithm to construct the system of sensitivity ODEs:\n",
    "\n",
    "1. Select state / intermediate expression of interest. From now on referred to as Y.\n",
    "2. Select the parameter of interest. From now on P.\n",
    "3. Get RHS of Y.\n",
    "4. Construct a tree of partial derivatives (see subroutine).\n",
    "5. Identify relevant branches of the tree, by starting at the deepest level. If there is no explicit dependence on P, level can be ignored and we repeat the check at the previous level. If there is an explicit dependence, the entire branch is relevant for the constructions.\n",
    "6. Construct system of ODEs by summing the expressions at each level from the relevant branches.\n",
    "\n",
    "Subroutine: Construct a tree of partial derivatives:\n",
    "\n",
    "1. Initialise first node of tree at Y\n",
    "2. Create nodes of the tree by adding a node for each state $y$, intermediate expression $x$ and the parameter P.\n",
    "3. Fill the nodes with the partial derivatives multiplied by the total derivate of x, y and P w.r.t. P. Delete those nodes with vanishing derivatives.\n",
    "4. For each level 1 node derived from a state or a intermediate expression, repeat 2. and 3..\n",
    "5. If a state or intermediate expression appears a second time in the tree, references the first appearance.\n",
    "6. Terminate when no new states or intermediate expressions appear."
   ],
   "cell_type": "markdown",
   "metadata": {}
  },
  {
   "cell_type": "code",
   "execution_count": 3,
   "metadata": {},
   "outputs": [
    {
     "output_type": "stream",
     "name": "stdout",
     "text": [
      "{'myokit.total_bacterial_count': {'is state': False, 'sensitivity': None, 'partial derivatives': {'parameters': {'myokit.growth_rate': myokit.Expression[0 [s/m^3 (4e+06)]]}, 'not constant': {'myokit.bacterial_count_susceptible': myokit.Expression[1], 'myokit.bacterial_count_adapted': myokit.Expression[1]}}}}\n{'myokit.bacterial_count_susceptible', 'myokit.bacterial_count_adapted'}\n"
     ]
    }
   ],
   "source": [
    "# Get partials of total_bacterial_count\n",
    "derivative_tree = {}\n",
    "unexplored = set()\n",
    "parameter = model.get('myokit.growth_rate').lhs()\n",
    "var = model.get('myokit.total_bacterial_count')\n",
    "lhs = var.lhs()\n",
    "rhs = var.rhs()\n",
    "derivative_tree['myokit.total_bacterial_count'] = {\n",
    "    'is state': lhs.is_derivative(),\n",
    "    'sensitivity': None,\n",
    "    'partial derivatives': {\n",
    "        'parameters': {parameter.__str__(): rhs.diff(parameter)},\n",
    "        'not constant': {a.__str__(): rhs.diff(a) for a in rhs.references() if not a.is_constant()}\n",
    "    }\n",
    "}\n",
    "\n",
    "# Add non-constant parameters to list of unexplored dependencies, if there not already in the derivative tree\n",
    "explored = derivative_tree.keys()\n",
    "for dependency in derivative_tree['myokit.total_bacterial_count']['partial derivatives']['not constant'].keys():\n",
    "    # Skip, if already explored\n",
    "    if dependency in explored:\n",
    "        continue\n",
    "    # Add depency to unexplored list\n",
    "    unexplored.add(dependency)\n",
    "\n",
    "print(derivative_tree)\n",
    "print(unexplored)"
   ]
  },
  {
   "cell_type": "code",
   "execution_count": 4,
   "metadata": {},
   "outputs": [
    {
     "output_type": "stream",
     "name": "stdout",
     "text": [
      "dict_keys(['myokit.total_bacterial_count', 'myokit.bacterial_count_susceptible'])\n{'myokit.growth_rate': myokit.Expression[1 * myokit.bacterial_count_susceptible]}\ndict_keys(['myokit.bacterial_count_susceptible', 'central.drug_concentration'])\n{'myokit.bacterial_count_adapted', 'central.drug_concentration'}\n"
     ]
    }
   ],
   "source": [
    "# Get partials for next dependency\n",
    "name = unexplored.pop()\n",
    "var = model.get(name)\n",
    "lhs = var.lhs()\n",
    "rhs = var.rhs()\n",
    "derivative_tree[name] = {\n",
    "    'is state': lhs.is_derivative(),\n",
    "    'sensitivity': None,\n",
    "    'partial derivatives': {\n",
    "        'parameters': {parameter.__str__(): rhs.diff(parameter)},\n",
    "        'not constant': {a.__str__(): rhs.diff(a) for a in rhs.references() if not a.is_constant()}\n",
    "    }\n",
    "}\n",
    "\n",
    "# Add non-constant parameters to list of unexplored dependencies, if there not already in the derivative tree\n",
    "explored = derivative_tree.keys()\n",
    "for dependency in derivative_tree[name]['partial derivatives']['not constant'].keys():\n",
    "    # Skip, if already explored\n",
    "    if dependency in explored:\n",
    "        continue\n",
    "    # Add depency to unexplored list\n",
    "    unexplored.add(dependency)\n",
    "\n",
    "print(derivative_tree.keys())\n",
    "print(derivative_tree[name]['partial derivatives']['parameters'])\n",
    "print(derivative_tree[name]['partial derivatives']['not constant'].keys())\n",
    "print(unexplored)"
   ]
  },
  {
   "cell_type": "code",
   "execution_count": 5,
   "metadata": {},
   "outputs": [
    {
     "output_type": "stream",
     "name": "stdout",
     "text": [
      "dict_keys(['myokit.total_bacterial_count', 'myokit.bacterial_count_susceptible', 'myokit.bacterial_count_adapted'])\n{'myokit.growth_rate': myokit.Expression[1 * myokit.bacterial_count_adapted]}\ndict_keys(['myokit.bacterial_count_susceptible', 'central.drug_concentration', 'myokit.bacterial_count_adapted'])\n{'central.drug_concentration'}\n"
     ]
    }
   ],
   "source": [
    "# Get partials for next dependency\n",
    "name = unexplored.pop()\n",
    "var = model.get(name)\n",
    "lhs = var.lhs()\n",
    "rhs = var.rhs()\n",
    "derivative_tree[name] = {\n",
    "    'is state': lhs.is_derivative(),\n",
    "    'sensitivity': None,\n",
    "    'partial derivatives': {\n",
    "        'parameters': {parameter.__str__(): rhs.diff(parameter)},\n",
    "        'not constant': {a.__str__(): rhs.diff(a) for a in rhs.references() if not a.is_constant()}\n",
    "    }\n",
    "}\n",
    "\n",
    "# Add non-constant parameters to list of unexplored dependencies, if there not already in the derivative tree\n",
    "explored = derivative_tree.keys()\n",
    "for dependency in derivative_tree[name]['partial derivatives']['not constant'].keys():\n",
    "    # Skip, if already explored\n",
    "    if dependency in explored:\n",
    "        continue\n",
    "    # Add depency to unexplored list\n",
    "    unexplored.add(dependency)\n",
    "\n",
    "print(derivative_tree.keys())\n",
    "print(derivative_tree[name]['partial derivatives']['parameters'])\n",
    "print(derivative_tree[name]['partial derivatives']['not constant'].keys())\n",
    "print(unexplored)"
   ]
  },
  {
   "cell_type": "code",
   "execution_count": 6,
   "metadata": {},
   "outputs": [
    {
     "output_type": "stream",
     "name": "stdout",
     "text": [
      "dict_keys(['myokit.total_bacterial_count', 'myokit.bacterial_count_susceptible', 'myokit.bacterial_count_adapted', 'central.drug_concentration'])\n{'myokit.growth_rate': myokit.Expression[0 [g*s/m^3 (3600)]]}\ndict_keys(['central.drug_amount'])\n{'central.drug_amount'}\n"
     ]
    }
   ],
   "source": [
    "# Get partials for next dependency\n",
    "name = unexplored.pop()\n",
    "var = model.get(name)\n",
    "lhs = var.lhs()\n",
    "rhs = var.rhs()\n",
    "derivative_tree[name] = {\n",
    "    'is state': lhs.is_derivative(),\n",
    "    'sensitivity': None,\n",
    "    'partial derivatives': {\n",
    "        'parameters': {parameter.__str__(): rhs.diff(parameter)},\n",
    "        'not constant': {a.__str__(): rhs.diff(a) for a in rhs.references() if not a.is_constant()}\n",
    "    }\n",
    "}\n",
    "\n",
    "# Add non-constant parameters to list of unexplored dependencies, if there not already in the derivative tree\n",
    "explored = derivative_tree.keys()\n",
    "for dependency in derivative_tree[name]['partial derivatives']['not constant'].keys():\n",
    "    # Skip, if already explored\n",
    "    if dependency in explored:\n",
    "        continue\n",
    "    # Add depency to unexplored list\n",
    "    unexplored.add(dependency)\n",
    "\n",
    "print(derivative_tree.keys())\n",
    "print(derivative_tree[name]['partial derivatives']['parameters'])\n",
    "print(derivative_tree[name]['partial derivatives']['not constant'].keys())\n",
    "print(unexplored)"
   ]
  },
  {
   "cell_type": "code",
   "execution_count": 7,
   "metadata": {},
   "outputs": [
    {
     "output_type": "stream",
     "name": "stdout",
     "text": [
      "dict_keys(['myokit.total_bacterial_count', 'myokit.bacterial_count_susceptible', 'myokit.bacterial_count_adapted', 'central.drug_concentration', 'central.drug_amount'])\n{'myokit.growth_rate': myokit.Expression[0 [kg (1e-06)]]}\ndict_keys(['central.drug_concentration'])\nset()\n"
     ]
    }
   ],
   "source": [
    "# Get partials for next dependency\n",
    "name = unexplored.pop()\n",
    "var = model.get(name)\n",
    "lhs = var.lhs()\n",
    "rhs = var.rhs()\n",
    "derivative_tree[name] = {\n",
    "    'is state': lhs.is_derivative(),\n",
    "    'sensitivity': None,\n",
    "    'partial derivatives': {\n",
    "        'parameters': {parameter.__str__(): rhs.diff(parameter)},\n",
    "        'not constant': {a.__str__(): rhs.diff(a) for a in rhs.references() if not a.is_constant()}\n",
    "    }\n",
    "}\n",
    "\n",
    "# Add non-constant parameters to list of unexplored dependencies, if there not already in the derivative tree\n",
    "explored = derivative_tree.keys()\n",
    "for dependency in derivative_tree[name]['partial derivatives']['not constant'].keys():\n",
    "    # Skip, if already explored\n",
    "    if dependency in explored:\n",
    "        continue\n",
    "    # Add depency to unexplored list\n",
    "    unexplored.add(dependency)\n",
    "\n",
    "print(derivative_tree.keys())\n",
    "print(derivative_tree[name]['partial derivatives']['parameters'])\n",
    "print(derivative_tree[name]['partial derivatives']['not constant'].keys())\n",
    "print(unexplored)"
   ]
  },
  {
   "source": [
    "### Construct sensitivity equations from derivative tree"
   ],
   "cell_type": "markdown",
   "metadata": {}
  },
  {
   "cell_type": "code",
   "execution_count": 9,
   "metadata": {},
   "outputs": [
    {
     "output_type": "stream",
     "name": "stdout",
     "text": [
      "[[model]]\nname: adaptive_resistance\n# Initial values\nmyokit.bacterial_count_adapted     = 1\nmyokit.bacterial_count_susceptible = 1\ncentral.drug_amount                = 0\n\n[central]\ndot(drug_amount) = -(size * myokit.elimination_rate * drug_concentration)\n    in [kg (1e-06)]\ndrug_concentration = drug_amount / size\n    in [g/m^3]\nsize = 1\n    in [L]\n\n[myokit]\ndot(bacterial_count_adapted) = (growth_rate - kappa_adapted * (central.drug_concentration^gamma / (central.drug_concentration^gamma + concentration_e50_adapted^gamma))) * bacterial_count_adapted + mutation_rate * central.drug_concentration * bacterial_count_susceptible\n    in [1/m^3 (1000)]\ndot(bacterial_count_susceptible) = (growth_rate - (kappa_susceptible * central.drug_concentration + mutation_rate * central.drug_concentration)) * bacterial_count_susceptible\n    in [1/m^3 (1000)]\nconcentration_e50_adapted = 1\n    in [g/m^3]\nelimination_rate = 1\n    in [S/F (0.0002777777777777778)]\ngamma = 1\n    in [1]\ngrowth_rate = 1\n    in [S/F (0.0002777777777777778)]\nkappa_adapted = 1\n    in [S/F (0.0002777777777777778)]\nkappa_susceptible = 1\n    in [m^3/g/s (0.0002777777777777778)]\nmutation_rate = 1\n    in [m^3/g/s (0.0002777777777777778)]\ntime = 0 bind time\n    in [s (3600)]\ntotal_bacterial_count = bacterial_count_susceptible + bacterial_count_adapted\n    in [1/m^3 (1000)]\n\n[sensitivities]\ndcentral_drug_amount_dmyokit_growth_rate = UNDEFINED\ndcentral_drug_concentration_dmyokit_growth_rate = UNDEFINED\ndmyokit_bacterial_count_adapted_dmyokit_growth_rate = UNDEFINED\ndmyokit_bacterial_count_susceptible_dmyokit_growth_rate = UNDEFINED\ndmyokit_total_bacterial_count_dmyokit_growth_rate = UNDEFINED\n\n\n"
     ]
    }
   ],
   "source": [
    "# Add a sensitivity compartment to the model\n",
    "if not model.has_component('sensitivities'):\n",
    "    comp = model.add_component_allow_renaming('sensitivities')\n",
    "\n",
    "for name, details in derivative_tree.items():\n",
    "    # Get/add sensitivity variable to model\n",
    "    try:\n",
    "        var = comp.get(details['sensitivity'])\n",
    "    except AttributeError:\n",
    "        var = comp.add_variable_allow_renaming(\n",
    "            'd%s_d%s' % (name.replace('.', '_'), str(parameter).replace('.', '_'))\n",
    "        )\n",
    "        details['sensitivity'] = var\n",
    "\n",
    "print(model.code())"
   ]
  },
  {
   "source": [
    "### TODO:\n",
    "1. Extend tree to contain flag, whether rhs is explicitly dependent on parameter.\n",
    "2. Extend routine that removes all entries in the tree that would evaluate to zero.\n",
    "3. The remaining expressions will be relevant, and can then be used to construct the sensitivities."
   ],
   "cell_type": "markdown",
   "metadata": {}
  },
  {
   "cell_type": "code",
   "execution_count": null,
   "metadata": {},
   "outputs": [],
   "source": []
  }
 ]
}